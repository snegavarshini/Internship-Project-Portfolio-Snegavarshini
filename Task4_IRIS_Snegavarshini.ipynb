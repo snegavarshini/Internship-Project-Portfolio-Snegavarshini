{
  "nbformat": 4,
  "nbformat_minor": 0,
  "metadata": {
    "colab": {
      "provenance": []
    },
    "kernelspec": {
      "name": "python3",
      "display_name": "Python 3"
    },
    "language_info": {
      "name": "python"
    }
  },
  "cells": [
    {
      "cell_type": "markdown",
      "source": [
        "## **Iris Flower Classification Using ANN**\n",
        "The goal of this project was to build a simple Artificial Neural Network (ANN) to classify iris flowers into three species using the famous Iris dataset.\n",
        "\n",
        "✅ **ANN** is  made of neurons connected together that can learn from data\n",
        "\n",
        " 🧱 **Structure**:\n",
        "\n",
        "\n",
        "\n",
        "1.  Input Layer: Takes the input features (like petal size).\n",
        "\n",
        "2. Hidden Layer(s): Does the thinking (math!).\n",
        "1.   Output Layer: Gives the answer (what flower it is).\n",
        "\n",
        "⚙️ **Activation Functions**: These are like switches that decide whether a neuron should “fire” or not.\n",
        "\n",
        "Common ones:\n",
        "\n",
        "\n",
        "\n",
        "1. ReLU (Rectified Linear Unit): “If input > 0, keep it; else, make it 0.”\n",
        "\n",
        "1.  Sigmoid: Squishes number between 0 and 1.\n",
        "2.  Tanh: Squishes between -1 and 1.\n",
        "1.   Softmax: Used in output layer to pick the class with the highest probability.\n",
        "\n",
        "🔁 Propagation:\n",
        "\n",
        "Forward Propagation: Send the data through the network.\n",
        "\n",
        "Backpropagation: Learn from mistakes by adjusting the weights.\n",
        "\n",
        "🧪** Key Concepts**\n",
        "\n",
        "\n",
        "1.   Weights: Like the strength of a connection between neurons.\n",
        "2. Biases: A small number added to adjust the output.\n",
        "\n",
        "1.   Learning Rate: How much we adjust weights at each step.\n",
        "2.    Gradient Descent:\n",
        "A method to find the best weights to reduce errors.\n"
      ],
      "metadata": {
        "id": "4bA0wx3HtDj7"
      }
    },
    {
      "cell_type": "markdown",
      "source": [
        "**Step 1: Import Libraries**\n",
        "\n",
        "I have imported essential libraries for numerical computation (NumPy), data handling (Pandas), visualization (Matplotlib, Seaborn), and tools from Scikit-learn for preprocessing and dataset loading.\n"
      ],
      "metadata": {
        "id": "r5GldX-ZLZDJ"
      }
    },
    {
      "cell_type": "code",
      "execution_count": null,
      "metadata": {
        "id": "bFVXge6mdqnP"
      },
      "outputs": [],
      "source": [
        "import numpy as np\n",
        "import pandas as pd\n",
        "import matplotlib.pyplot as plt\n",
        "import seaborn as sns\n",
        "\n",
        "from sklearn.datasets import load_iris\n",
        "from sklearn.model_selection import train_test_split\n",
        "from sklearn.preprocessing import StandardScaler, OneHotEncoder\n"
      ]
    },
    {
      "cell_type": "markdown",
      "source": [
        "**Step 2: Load the Dataset**\n",
        "\n",
        "The Iris dataset is loaded directly from Scikit-learn. X contains the features and y contains the class labels (flower types).\n"
      ],
      "metadata": {
        "id": "t4Hz33a2Lksg"
      }
    },
    {
      "cell_type": "code",
      "source": [
        "data = load_iris()\n",
        "X = data.data  # Features: sepal length, width, petal length, width\n",
        "y = data.target  # Labels: 0 = Setosa, 1 = Versicolor, 2 = Virginica"
      ],
      "metadata": {
        "id": "JLZk02XUCVNJ"
      },
      "execution_count": null,
      "outputs": []
    },
    {
      "cell_type": "markdown",
      "source": [
        "**Step 3: Split the Dataset**\n",
        "\n",
        "\n",
        "the dataset is splitted into 80% training and 20% testing using train_test_split. random_state=42 ensures reproducibility.\n"
      ],
      "metadata": {
        "id": "jLPSkWvnLzXj"
      }
    },
    {
      "cell_type": "code",
      "source": [
        "X_train, X_test, y_train, y_test = train_test_split(\n",
        "    X, y, test_size=0.2, random_state=42)\n"
      ],
      "metadata": {
        "id": "718200h1CfQL"
      },
      "execution_count": null,
      "outputs": []
    },
    {
      "cell_type": "markdown",
      "source": [
        "**Step 4: Standardize Features**\n",
        "\n",
        "StandardScaler ensures all features are on the same scale, which improves the efficiency and accuracy of training.\n"
      ],
      "metadata": {
        "id": "LOKf90l3L9WQ"
      }
    },
    {
      "cell_type": "code",
      "source": [
        "scaler = StandardScaler()\n",
        "X_train = scaler.fit_transform(X_train)\n",
        "X_test = scaler.transform(X_test)\n"
      ],
      "metadata": {
        "id": "WEQGwhYdCrQo"
      },
      "execution_count": null,
      "outputs": []
    },
    {
      "cell_type": "markdown",
      "source": [
        "**Step 5: One-Hot Encode Labels**\n",
        "\n",
        "OneHotEncoder transforms class labels (0,1,2) into vectors like [1,0,0], [0,1,0], etc., suitable for multi-class classification.\n"
      ],
      "metadata": {
        "id": "E0JzJBQgMF1p"
      }
    },
    {
      "cell_type": "code",
      "source": [
        "encoder = OneHotEncoder(sparse_output=False)\n",
        "y_train = encoder.fit_transform(y_train.reshape(-1, 1))\n",
        "y_test = encoder.transform(y_test.reshape(-1, 1))"
      ],
      "metadata": {
        "id": "FS8p5VlKDEXi"
      },
      "execution_count": null,
      "outputs": []
    },
    {
      "cell_type": "markdown",
      "source": [
        "**Step 6: Build the Model**\n",
        "\n",
        "I have used Keras Sequential API. The model has one input layer (implicitly defined), one hidden layer (5 neurons, ReLU), and one output layer (3 neurons, Softmax).\n"
      ],
      "metadata": {
        "id": "3iPkMF4YDoQx"
      }
    },
    {
      "cell_type": "code",
      "source": [
        "# Import the necessary modules\n",
        "import tensorflow as tf\n",
        "from tensorflow.keras.models import Sequential\n",
        "from tensorflow.keras.layers import Dense, Input\n",
        "\n",
        "# Build the model using Input()\n",
        "model = Sequential()\n",
        "model.add(Input(shape=(4,)))             # 4 features (input layer)\n",
        "model.add(Dense(units=5, activation='relu'))    # Hidden layer with ReLU\n",
        "model.add(Dense(units=3, activation='softmax')) # Output layer with 3 classes\n"
      ],
      "metadata": {
        "id": "tqYl3nZVEQeP"
      },
      "execution_count": null,
      "outputs": []
    },
    {
      "cell_type": "markdown",
      "source": [
        "**Step 7: Compile the Model**\n",
        "\n",
        "The model is compiled with the SGD optimizer, categorical cross-entropy loss (good for one-hot labels), and tracked accuracy.\n"
      ],
      "metadata": {
        "id": "DDxTL6yWFYVd"
      }
    },
    {
      "cell_type": "code",
      "source": [
        "model.compile(\n",
        "    optimizer='sgd',  # Stochastic Gradient Descent (good for small datasets)\n",
        "    loss='categorical_crossentropy',  # For multi-class classification + one-hot labels\n",
        "    metrics=['accuracy']\n",
        ")"
      ],
      "metadata": {
        "id": "obfqWH-HFY76"
      },
      "execution_count": null,
      "outputs": []
    },
    {
      "cell_type": "markdown",
      "source": [
        "**Step 8: Train the Model**\n",
        "\n",
        "The model is trained using .fit() for 100 epochs, and it also evaluates validation performance using the test set.\n"
      ],
      "metadata": {
        "id": "tLGWyLXJMwsN"
      }
    },
    {
      "cell_type": "code",
      "source": [
        "# Training the model on training data for 100 epochs\n",
        "history = model.fit(\n",
        "    X_train, y_train,        # The training data\n",
        "    epochs=100,              # Number of learning loops\n",
        "    validation_data=(X_test, y_test),  # Check on test data while training\n",
        "    verbose=1                # progress bar\n",
        ")"
      ],
      "metadata": {
        "colab": {
          "base_uri": "https://localhost:8080/"
        },
        "id": "81ujm8V9F0gp",
        "outputId": "b397b8c9-5fe2-45ff-89b5-cd4303231053"
      },
      "execution_count": null,
      "outputs": [
        {
          "output_type": "stream",
          "name": "stdout",
          "text": [
            "Epoch 1/100\n",
            "\u001b[1m4/4\u001b[0m \u001b[32m━━━━━━━━━━━━━━━━━━━━\u001b[0m\u001b[37m\u001b[0m \u001b[1m0s\u001b[0m 48ms/step - accuracy: 0.9019 - loss: 0.4295 - val_accuracy: 0.9000 - val_loss: 0.3471\n",
            "Epoch 2/100\n",
            "\u001b[1m4/4\u001b[0m \u001b[32m━━━━━━━━━━━━━━━━━━━━\u001b[0m\u001b[37m\u001b[0m \u001b[1m0s\u001b[0m 30ms/step - accuracy: 0.9112 - loss: 0.3956 - val_accuracy: 0.9000 - val_loss: 0.3452\n",
            "Epoch 3/100\n",
            "\u001b[1m4/4\u001b[0m \u001b[32m━━━━━━━━━━━━━━━━━━━━\u001b[0m\u001b[37m\u001b[0m \u001b[1m0s\u001b[0m 32ms/step - accuracy: 0.9144 - loss: 0.4041 - val_accuracy: 0.9000 - val_loss: 0.3434\n",
            "Epoch 4/100\n",
            "\u001b[1m4/4\u001b[0m \u001b[32m━━━━━━━━━━━━━━━━━━━━\u001b[0m\u001b[37m\u001b[0m \u001b[1m0s\u001b[0m 30ms/step - accuracy: 0.9040 - loss: 0.4344 - val_accuracy: 0.9000 - val_loss: 0.3415\n",
            "Epoch 5/100\n",
            "\u001b[1m4/4\u001b[0m \u001b[32m━━━━━━━━━━━━━━━━━━━━\u001b[0m\u001b[37m\u001b[0m \u001b[1m0s\u001b[0m 45ms/step - accuracy: 0.9042 - loss: 0.4320 - val_accuracy: 0.9000 - val_loss: 0.3398\n",
            "Epoch 6/100\n",
            "\u001b[1m4/4\u001b[0m \u001b[32m━━━━━━━━━━━━━━━━━━━━\u001b[0m\u001b[37m\u001b[0m \u001b[1m0s\u001b[0m 29ms/step - accuracy: 0.9427 - loss: 0.3914 - val_accuracy: 0.9333 - val_loss: 0.3380\n",
            "Epoch 7/100\n",
            "\u001b[1m4/4\u001b[0m \u001b[32m━━━━━━━━━━━━━━━━━━━━\u001b[0m\u001b[37m\u001b[0m \u001b[1m0s\u001b[0m 41ms/step - accuracy: 0.9146 - loss: 0.4071 - val_accuracy: 0.9333 - val_loss: 0.3363\n",
            "Epoch 8/100\n",
            "\u001b[1m4/4\u001b[0m \u001b[32m━━━━━━━━━━━━━━━━━━━━\u001b[0m\u001b[37m\u001b[0m \u001b[1m0s\u001b[0m 27ms/step - accuracy: 0.9250 - loss: 0.3771 - val_accuracy: 0.9333 - val_loss: 0.3346\n",
            "Epoch 9/100\n",
            "\u001b[1m4/4\u001b[0m \u001b[32m━━━━━━━━━━━━━━━━━━━━\u001b[0m\u001b[37m\u001b[0m \u001b[1m0s\u001b[0m 27ms/step - accuracy: 0.9292 - loss: 0.3616 - val_accuracy: 0.9667 - val_loss: 0.3328\n",
            "Epoch 10/100\n",
            "\u001b[1m4/4\u001b[0m \u001b[32m━━━━━━━━━━━━━━━━━━━━\u001b[0m\u001b[37m\u001b[0m \u001b[1m0s\u001b[0m 26ms/step - accuracy: 0.9198 - loss: 0.3660 - val_accuracy: 0.9667 - val_loss: 0.3312\n",
            "Epoch 11/100\n",
            "\u001b[1m4/4\u001b[0m \u001b[32m━━━━━━━━━━━━━━━━━━━━\u001b[0m\u001b[37m\u001b[0m \u001b[1m0s\u001b[0m 39ms/step - accuracy: 0.9094 - loss: 0.3974 - val_accuracy: 0.9667 - val_loss: 0.3295\n",
            "Epoch 12/100\n",
            "\u001b[1m4/4\u001b[0m \u001b[32m━━━━━━━━━━━━━━━━━━━━\u001b[0m\u001b[37m\u001b[0m \u001b[1m0s\u001b[0m 26ms/step - accuracy: 0.9210 - loss: 0.3913 - val_accuracy: 0.9667 - val_loss: 0.3279\n",
            "Epoch 13/100\n",
            "\u001b[1m4/4\u001b[0m \u001b[32m━━━━━━━━━━━━━━━━━━━━\u001b[0m\u001b[37m\u001b[0m \u001b[1m0s\u001b[0m 42ms/step - accuracy: 0.9273 - loss: 0.3754 - val_accuracy: 0.9667 - val_loss: 0.3262\n",
            "Epoch 14/100\n",
            "\u001b[1m4/4\u001b[0m \u001b[32m━━━━━━━━━━━━━━━━━━━━\u001b[0m\u001b[37m\u001b[0m \u001b[1m0s\u001b[0m 42ms/step - accuracy: 0.9117 - loss: 0.3723 - val_accuracy: 0.9667 - val_loss: 0.3246\n",
            "Epoch 15/100\n",
            "\u001b[1m4/4\u001b[0m \u001b[32m━━━━━━━━━━━━━━━━━━━━\u001b[0m\u001b[37m\u001b[0m \u001b[1m0s\u001b[0m 48ms/step - accuracy: 0.9169 - loss: 0.3734 - val_accuracy: 0.9667 - val_loss: 0.3230\n",
            "Epoch 16/100\n",
            "\u001b[1m4/4\u001b[0m \u001b[32m━━━━━━━━━━━━━━━━━━━━\u001b[0m\u001b[37m\u001b[0m \u001b[1m0s\u001b[0m 37ms/step - accuracy: 0.9169 - loss: 0.3712 - val_accuracy: 0.9667 - val_loss: 0.3214\n",
            "Epoch 17/100\n",
            "\u001b[1m4/4\u001b[0m \u001b[32m━━━━━━━━━━━━━━━━━━━━\u001b[0m\u001b[37m\u001b[0m \u001b[1m0s\u001b[0m 52ms/step - accuracy: 0.9002 - loss: 0.4098 - val_accuracy: 0.9667 - val_loss: 0.3199\n",
            "Epoch 18/100\n",
            "\u001b[1m4/4\u001b[0m \u001b[32m━━━━━━━━━━━━━━━━━━━━\u001b[0m\u001b[37m\u001b[0m \u001b[1m0s\u001b[0m 47ms/step - accuracy: 0.9127 - loss: 0.3582 - val_accuracy: 0.9667 - val_loss: 0.3183\n",
            "Epoch 19/100\n",
            "\u001b[1m4/4\u001b[0m \u001b[32m━━━━━━━━━━━━━━━━━━━━\u001b[0m\u001b[37m\u001b[0m \u001b[1m0s\u001b[0m 36ms/step - accuracy: 0.9096 - loss: 0.3664 - val_accuracy: 0.9667 - val_loss: 0.3168\n",
            "Epoch 20/100\n",
            "\u001b[1m4/4\u001b[0m \u001b[32m━━━━━━━━━━━━━━━━━━━━\u001b[0m\u001b[37m\u001b[0m \u001b[1m0s\u001b[0m 49ms/step - accuracy: 0.9242 - loss: 0.3821 - val_accuracy: 0.9667 - val_loss: 0.3153\n",
            "Epoch 21/100\n",
            "\u001b[1m4/4\u001b[0m \u001b[32m━━━━━━━━━━━━━━━━━━━━\u001b[0m\u001b[37m\u001b[0m \u001b[1m0s\u001b[0m 27ms/step - accuracy: 0.9325 - loss: 0.3781 - val_accuracy: 0.9667 - val_loss: 0.3138\n",
            "Epoch 22/100\n",
            "\u001b[1m4/4\u001b[0m \u001b[32m━━━━━━━━━━━━━━━━━━━━\u001b[0m\u001b[37m\u001b[0m \u001b[1m0s\u001b[0m 40ms/step - accuracy: 0.9283 - loss: 0.3715 - val_accuracy: 0.9667 - val_loss: 0.3123\n",
            "Epoch 23/100\n",
            "\u001b[1m4/4\u001b[0m \u001b[32m━━━━━━━━━━━━━━━━━━━━\u001b[0m\u001b[37m\u001b[0m \u001b[1m0s\u001b[0m 27ms/step - accuracy: 0.9473 - loss: 0.3585 - val_accuracy: 0.9667 - val_loss: 0.3108\n",
            "Epoch 24/100\n",
            "\u001b[1m4/4\u001b[0m \u001b[32m━━━━━━━━━━━━━━━━━━━━\u001b[0m\u001b[37m\u001b[0m \u001b[1m0s\u001b[0m 26ms/step - accuracy: 0.9327 - loss: 0.3747 - val_accuracy: 0.9667 - val_loss: 0.3094\n",
            "Epoch 25/100\n",
            "\u001b[1m4/4\u001b[0m \u001b[32m━━━━━━━━━━━━━━━━━━━━\u001b[0m\u001b[37m\u001b[0m \u001b[1m0s\u001b[0m 27ms/step - accuracy: 0.9400 - loss: 0.3652 - val_accuracy: 0.9667 - val_loss: 0.3079\n",
            "Epoch 26/100\n",
            "\u001b[1m4/4\u001b[0m \u001b[32m━━━━━━━━━━━━━━━━━━━━\u001b[0m\u001b[37m\u001b[0m \u001b[1m0s\u001b[0m 27ms/step - accuracy: 0.9400 - loss: 0.3420 - val_accuracy: 0.9667 - val_loss: 0.3065\n",
            "Epoch 27/100\n",
            "\u001b[1m4/4\u001b[0m \u001b[32m━━━━━━━━━━━━━━━━━━━━\u001b[0m\u001b[37m\u001b[0m \u001b[1m0s\u001b[0m 26ms/step - accuracy: 0.9494 - loss: 0.3376 - val_accuracy: 0.9667 - val_loss: 0.3051\n",
            "Epoch 28/100\n",
            "\u001b[1m4/4\u001b[0m \u001b[32m━━━━━━━━━━━━━━━━━━━━\u001b[0m\u001b[37m\u001b[0m \u001b[1m0s\u001b[0m 31ms/step - accuracy: 0.9494 - loss: 0.3430 - val_accuracy: 0.9667 - val_loss: 0.3037\n",
            "Epoch 29/100\n",
            "\u001b[1m4/4\u001b[0m \u001b[32m━━━━━━━━━━━━━━━━━━━━\u001b[0m\u001b[37m\u001b[0m \u001b[1m0s\u001b[0m 40ms/step - accuracy: 0.9298 - loss: 0.3607 - val_accuracy: 0.9667 - val_loss: 0.3023\n",
            "Epoch 30/100\n",
            "\u001b[1m4/4\u001b[0m \u001b[32m━━━━━━━━━━━━━━━━━━━━\u001b[0m\u001b[37m\u001b[0m \u001b[1m0s\u001b[0m 25ms/step - accuracy: 0.9329 - loss: 0.3680 - val_accuracy: 0.9667 - val_loss: 0.3009\n",
            "Epoch 31/100\n",
            "\u001b[1m4/4\u001b[0m \u001b[32m━━━━━━━━━━━━━━━━━━━━\u001b[0m\u001b[37m\u001b[0m \u001b[1m0s\u001b[0m 27ms/step - accuracy: 0.9454 - loss: 0.3377 - val_accuracy: 0.9667 - val_loss: 0.2995\n",
            "Epoch 32/100\n",
            "\u001b[1m4/4\u001b[0m \u001b[32m━━━━━━━━━━━━━━━━━━━━\u001b[0m\u001b[37m\u001b[0m \u001b[1m0s\u001b[0m 26ms/step - accuracy: 0.9423 - loss: 0.3472 - val_accuracy: 0.9667 - val_loss: 0.2982\n",
            "Epoch 33/100\n",
            "\u001b[1m4/4\u001b[0m \u001b[32m━━━━━━━━━━━━━━━━━━━━\u001b[0m\u001b[37m\u001b[0m \u001b[1m0s\u001b[0m 25ms/step - accuracy: 0.9475 - loss: 0.3459 - val_accuracy: 0.9667 - val_loss: 0.2968\n",
            "Epoch 34/100\n",
            "\u001b[1m4/4\u001b[0m \u001b[32m━━━━━━━━━━━━━━━━━━━━\u001b[0m\u001b[37m\u001b[0m \u001b[1m0s\u001b[0m 26ms/step - accuracy: 0.9506 - loss: 0.3583 - val_accuracy: 0.9667 - val_loss: 0.2955\n",
            "Epoch 35/100\n",
            "\u001b[1m4/4\u001b[0m \u001b[32m━━━━━━━━━━━━━━━━━━━━\u001b[0m\u001b[37m\u001b[0m \u001b[1m0s\u001b[0m 29ms/step - accuracy: 0.9204 - loss: 0.3521 - val_accuracy: 0.9667 - val_loss: 0.2941\n",
            "Epoch 36/100\n",
            "\u001b[1m4/4\u001b[0m \u001b[32m━━━━━━━━━━━━━━━━━━━━\u001b[0m\u001b[37m\u001b[0m \u001b[1m0s\u001b[0m 28ms/step - accuracy: 0.9548 - loss: 0.3372 - val_accuracy: 0.9667 - val_loss: 0.2928\n",
            "Epoch 37/100\n",
            "\u001b[1m4/4\u001b[0m \u001b[32m━━━━━━━━━━━━━━━━━━━━\u001b[0m\u001b[37m\u001b[0m \u001b[1m0s\u001b[0m 27ms/step - accuracy: 0.9267 - loss: 0.3653 - val_accuracy: 0.9667 - val_loss: 0.2915\n",
            "Epoch 38/100\n",
            "\u001b[1m4/4\u001b[0m \u001b[32m━━━━━━━━━━━━━━━━━━━━\u001b[0m\u001b[37m\u001b[0m \u001b[1m0s\u001b[0m 25ms/step - accuracy: 0.9402 - loss: 0.3431 - val_accuracy: 0.9667 - val_loss: 0.2903\n",
            "Epoch 39/100\n",
            "\u001b[1m4/4\u001b[0m \u001b[32m━━━━━━━━━━━━━━━━━━━━\u001b[0m\u001b[37m\u001b[0m \u001b[1m0s\u001b[0m 25ms/step - accuracy: 0.9329 - loss: 0.3456 - val_accuracy: 0.9667 - val_loss: 0.2890\n",
            "Epoch 40/100\n",
            "\u001b[1m4/4\u001b[0m \u001b[32m━━━━━━━━━━━━━━━━━━━━\u001b[0m\u001b[37m\u001b[0m \u001b[1m0s\u001b[0m 39ms/step - accuracy: 0.9392 - loss: 0.3449 - val_accuracy: 0.9667 - val_loss: 0.2878\n",
            "Epoch 41/100\n",
            "\u001b[1m4/4\u001b[0m \u001b[32m━━━━━━━━━━━━━━━━━━━━\u001b[0m\u001b[37m\u001b[0m \u001b[1m0s\u001b[0m 34ms/step - accuracy: 0.9446 - loss: 0.3578 - val_accuracy: 0.9667 - val_loss: 0.2865\n",
            "Epoch 42/100\n",
            "\u001b[1m4/4\u001b[0m \u001b[32m━━━━━━━━━━━━━━━━━━━━\u001b[0m\u001b[37m\u001b[0m \u001b[1m0s\u001b[0m 27ms/step - accuracy: 0.9519 - loss: 0.3297 - val_accuracy: 0.9667 - val_loss: 0.2853\n",
            "Epoch 43/100\n",
            "\u001b[1m4/4\u001b[0m \u001b[32m━━━━━━━━━━━━━━━━━━━━\u001b[0m\u001b[37m\u001b[0m \u001b[1m0s\u001b[0m 27ms/step - accuracy: 0.9425 - loss: 0.3498 - val_accuracy: 0.9667 - val_loss: 0.2841\n",
            "Epoch 44/100\n",
            "\u001b[1m4/4\u001b[0m \u001b[32m━━━━━━━━━━━━━━━━━━━━\u001b[0m\u001b[37m\u001b[0m \u001b[1m0s\u001b[0m 26ms/step - accuracy: 0.9446 - loss: 0.3611 - val_accuracy: 0.9667 - val_loss: 0.2829\n",
            "Epoch 45/100\n",
            "\u001b[1m4/4\u001b[0m \u001b[32m━━━━━━━━━━━━━━━━━━━━\u001b[0m\u001b[37m\u001b[0m \u001b[1m0s\u001b[0m 41ms/step - accuracy: 0.9508 - loss: 0.3214 - val_accuracy: 0.9667 - val_loss: 0.2817\n",
            "Epoch 46/100\n",
            "\u001b[1m4/4\u001b[0m \u001b[32m━━━━━━━━━━━━━━━━━━━━\u001b[0m\u001b[37m\u001b[0m \u001b[1m0s\u001b[0m 39ms/step - accuracy: 0.9383 - loss: 0.3481 - val_accuracy: 0.9667 - val_loss: 0.2805\n",
            "Epoch 47/100\n",
            "\u001b[1m4/4\u001b[0m \u001b[32m━━━━━━━━━━━━━━━━━━━━\u001b[0m\u001b[37m\u001b[0m \u001b[1m0s\u001b[0m 38ms/step - accuracy: 0.9560 - loss: 0.3201 - val_accuracy: 0.9667 - val_loss: 0.2794\n",
            "Epoch 48/100\n",
            "\u001b[1m4/4\u001b[0m \u001b[32m━━━━━━━━━━━━━━━━━━━━\u001b[0m\u001b[37m\u001b[0m \u001b[1m0s\u001b[0m 28ms/step - accuracy: 0.9571 - loss: 0.3157 - val_accuracy: 0.9667 - val_loss: 0.2782\n",
            "Epoch 49/100\n",
            "\u001b[1m4/4\u001b[0m \u001b[32m━━━━━━━━━━━━━━━━━━━━\u001b[0m\u001b[37m\u001b[0m \u001b[1m0s\u001b[0m 31ms/step - accuracy: 0.9394 - loss: 0.3184 - val_accuracy: 0.9667 - val_loss: 0.2770\n",
            "Epoch 50/100\n",
            "\u001b[1m4/4\u001b[0m \u001b[32m━━━━━━━━━━━━━━━━━━━━\u001b[0m\u001b[37m\u001b[0m \u001b[1m0s\u001b[0m 31ms/step - accuracy: 0.9685 - loss: 0.3116 - val_accuracy: 0.9667 - val_loss: 0.2759\n",
            "Epoch 51/100\n",
            "\u001b[1m4/4\u001b[0m \u001b[32m━━━━━━━━━━━━━━━━━━━━\u001b[0m\u001b[37m\u001b[0m \u001b[1m0s\u001b[0m 33ms/step - accuracy: 0.9519 - loss: 0.3315 - val_accuracy: 0.9667 - val_loss: 0.2747\n",
            "Epoch 52/100\n",
            "\u001b[1m4/4\u001b[0m \u001b[32m━━━━━━━━━━━━━━━━━━━━\u001b[0m\u001b[37m\u001b[0m \u001b[1m0s\u001b[0m 29ms/step - accuracy: 0.9654 - loss: 0.3114 - val_accuracy: 0.9667 - val_loss: 0.2736\n",
            "Epoch 53/100\n",
            "\u001b[1m4/4\u001b[0m \u001b[32m━━━━━━━━━━━━━━━━━━━━\u001b[0m\u001b[37m\u001b[0m \u001b[1m0s\u001b[0m 27ms/step - accuracy: 0.9531 - loss: 0.3260 - val_accuracy: 0.9667 - val_loss: 0.2725\n",
            "Epoch 54/100\n",
            "\u001b[1m4/4\u001b[0m \u001b[32m━━━━━━━━━━━━━━━━━━━━\u001b[0m\u001b[37m\u001b[0m \u001b[1m0s\u001b[0m 29ms/step - accuracy: 0.9719 - loss: 0.3210 - val_accuracy: 0.9667 - val_loss: 0.2713\n",
            "Epoch 55/100\n",
            "\u001b[1m4/4\u001b[0m \u001b[32m━━━━━━━━━━━━━━━━━━━━\u001b[0m\u001b[37m\u001b[0m \u001b[1m0s\u001b[0m 26ms/step - accuracy: 0.9760 - loss: 0.3224 - val_accuracy: 0.9667 - val_loss: 0.2703\n",
            "Epoch 56/100\n",
            "\u001b[1m4/4\u001b[0m \u001b[32m━━━━━━━━━━━━━━━━━━━━\u001b[0m\u001b[37m\u001b[0m \u001b[1m0s\u001b[0m 30ms/step - accuracy: 0.9688 - loss: 0.3146 - val_accuracy: 0.9667 - val_loss: 0.2692\n",
            "Epoch 57/100\n",
            "\u001b[1m4/4\u001b[0m \u001b[32m━━━━━━━━━━━━━━━━━━━━\u001b[0m\u001b[37m\u001b[0m \u001b[1m0s\u001b[0m 26ms/step - accuracy: 0.9479 - loss: 0.3006 - val_accuracy: 0.9667 - val_loss: 0.2682\n",
            "Epoch 58/100\n",
            "\u001b[1m4/4\u001b[0m \u001b[32m━━━━━━━━━━━━━━━━━━━━\u001b[0m\u001b[37m\u001b[0m \u001b[1m0s\u001b[0m 25ms/step - accuracy: 0.9771 - loss: 0.3041 - val_accuracy: 0.9667 - val_loss: 0.2671\n",
            "Epoch 59/100\n",
            "\u001b[1m4/4\u001b[0m \u001b[32m━━━━━━━━━━━━━━━━━━━━\u001b[0m\u001b[37m\u001b[0m \u001b[1m0s\u001b[0m 26ms/step - accuracy: 0.9552 - loss: 0.3295 - val_accuracy: 0.9667 - val_loss: 0.2660\n",
            "Epoch 60/100\n",
            "\u001b[1m4/4\u001b[0m \u001b[32m━━━━━━━━━━━━━━━━━━━━\u001b[0m\u001b[37m\u001b[0m \u001b[1m0s\u001b[0m 27ms/step - accuracy: 0.9563 - loss: 0.3113 - val_accuracy: 0.9667 - val_loss: 0.2650\n",
            "Epoch 61/100\n",
            "\u001b[1m4/4\u001b[0m \u001b[32m━━━━━━━━━━━━━━━━━━━━\u001b[0m\u001b[37m\u001b[0m \u001b[1m0s\u001b[0m 27ms/step - accuracy: 0.9604 - loss: 0.3144 - val_accuracy: 0.9667 - val_loss: 0.2640\n",
            "Epoch 62/100\n",
            "\u001b[1m4/4\u001b[0m \u001b[32m━━━━━━━━━━━━━━━━━━━━\u001b[0m\u001b[37m\u001b[0m \u001b[1m0s\u001b[0m 38ms/step - accuracy: 0.9604 - loss: 0.3110 - val_accuracy: 0.9667 - val_loss: 0.2629\n",
            "Epoch 63/100\n",
            "\u001b[1m4/4\u001b[0m \u001b[32m━━━━━━━━━━━━━━━━━━━━\u001b[0m\u001b[37m\u001b[0m \u001b[1m0s\u001b[0m 29ms/step - accuracy: 0.9594 - loss: 0.3065 - val_accuracy: 0.9667 - val_loss: 0.2619\n",
            "Epoch 64/100\n",
            "\u001b[1m4/4\u001b[0m \u001b[32m━━━━━━━━━━━━━━━━━━━━\u001b[0m\u001b[37m\u001b[0m \u001b[1m0s\u001b[0m 27ms/step - accuracy: 0.9531 - loss: 0.3113 - val_accuracy: 0.9667 - val_loss: 0.2608\n",
            "Epoch 65/100\n",
            "\u001b[1m4/4\u001b[0m \u001b[32m━━━━━━━━━━━━━━━━━━━━\u001b[0m\u001b[37m\u001b[0m \u001b[1m0s\u001b[0m 25ms/step - accuracy: 0.9690 - loss: 0.3262 - val_accuracy: 0.9667 - val_loss: 0.2598\n",
            "Epoch 66/100\n",
            "\u001b[1m4/4\u001b[0m \u001b[32m━━━━━━━━━━━━━━━━━━━━\u001b[0m\u001b[37m\u001b[0m \u001b[1m0s\u001b[0m 26ms/step - accuracy: 0.9565 - loss: 0.3265 - val_accuracy: 0.9667 - val_loss: 0.2588\n",
            "Epoch 67/100\n",
            "\u001b[1m4/4\u001b[0m \u001b[32m━━━━━━━━━━━━━━━━━━━━\u001b[0m\u001b[37m\u001b[0m \u001b[1m0s\u001b[0m 27ms/step - accuracy: 0.9565 - loss: 0.3222 - val_accuracy: 0.9667 - val_loss: 0.2578\n",
            "Epoch 68/100\n",
            "\u001b[1m4/4\u001b[0m \u001b[32m━━━━━━━━━━━━━━━━━━━━\u001b[0m\u001b[37m\u001b[0m \u001b[1m0s\u001b[0m 28ms/step - accuracy: 0.9742 - loss: 0.3130 - val_accuracy: 0.9667 - val_loss: 0.2568\n",
            "Epoch 69/100\n",
            "\u001b[1m4/4\u001b[0m \u001b[32m━━━━━━━━━━━━━━━━━━━━\u001b[0m\u001b[37m\u001b[0m \u001b[1m0s\u001b[0m 26ms/step - accuracy: 0.9710 - loss: 0.3091 - val_accuracy: 0.9667 - val_loss: 0.2558\n",
            "Epoch 70/100\n",
            "\u001b[1m4/4\u001b[0m \u001b[32m━━━━━━━━━━━━━━━━━━━━\u001b[0m\u001b[37m\u001b[0m \u001b[1m0s\u001b[0m 26ms/step - accuracy: 0.9658 - loss: 0.3240 - val_accuracy: 0.9667 - val_loss: 0.2549\n",
            "Epoch 71/100\n",
            "\u001b[1m4/4\u001b[0m \u001b[32m━━━━━━━━━━━━━━━━━━━━\u001b[0m\u001b[37m\u001b[0m \u001b[1m0s\u001b[0m 39ms/step - accuracy: 0.9721 - loss: 0.2893 - val_accuracy: 0.9667 - val_loss: 0.2539\n",
            "Epoch 72/100\n",
            "\u001b[1m4/4\u001b[0m \u001b[32m━━━━━━━━━━━━━━━━━━━━\u001b[0m\u001b[37m\u001b[0m \u001b[1m0s\u001b[0m 27ms/step - accuracy: 0.9742 - loss: 0.2931 - val_accuracy: 0.9667 - val_loss: 0.2529\n",
            "Epoch 73/100\n",
            "\u001b[1m4/4\u001b[0m \u001b[32m━━━━━━━━━━━━━━━━━━━━\u001b[0m\u001b[37m\u001b[0m \u001b[1m0s\u001b[0m 27ms/step - accuracy: 0.9658 - loss: 0.2685 - val_accuracy: 0.9667 - val_loss: 0.2519\n",
            "Epoch 74/100\n",
            "\u001b[1m4/4\u001b[0m \u001b[32m━━━━━━━━━━━━━━━━━━━━\u001b[0m\u001b[37m\u001b[0m \u001b[1m0s\u001b[0m 27ms/step - accuracy: 0.9815 - loss: 0.3012 - val_accuracy: 0.9667 - val_loss: 0.2510\n",
            "Epoch 75/100\n",
            "\u001b[1m4/4\u001b[0m \u001b[32m━━━━━━━━━━━━━━━━━━━━\u001b[0m\u001b[37m\u001b[0m \u001b[1m0s\u001b[0m 26ms/step - accuracy: 0.9752 - loss: 0.2959 - val_accuracy: 0.9667 - val_loss: 0.2500\n",
            "Epoch 76/100\n",
            "\u001b[1m4/4\u001b[0m \u001b[32m━━━━━━━━━━━━━━━━━━━━\u001b[0m\u001b[37m\u001b[0m \u001b[1m0s\u001b[0m 27ms/step - accuracy: 0.9658 - loss: 0.3127 - val_accuracy: 0.9667 - val_loss: 0.2490\n",
            "Epoch 77/100\n",
            "\u001b[1m4/4\u001b[0m \u001b[32m━━━━━━━━━━━━━━━━━━━━\u001b[0m\u001b[37m\u001b[0m \u001b[1m0s\u001b[0m 27ms/step - accuracy: 0.9742 - loss: 0.3001 - val_accuracy: 0.9667 - val_loss: 0.2481\n",
            "Epoch 78/100\n",
            "\u001b[1m4/4\u001b[0m \u001b[32m━━━━━━━━━━━━━━━━━━━━\u001b[0m\u001b[37m\u001b[0m \u001b[1m0s\u001b[0m 30ms/step - accuracy: 0.9690 - loss: 0.2954 - val_accuracy: 0.9667 - val_loss: 0.2472\n",
            "Epoch 79/100\n",
            "\u001b[1m4/4\u001b[0m \u001b[32m━━━━━━━━━━━━━━━━━━━━\u001b[0m\u001b[37m\u001b[0m \u001b[1m0s\u001b[0m 31ms/step - accuracy: 0.9502 - loss: 0.3241 - val_accuracy: 0.9667 - val_loss: 0.2463\n",
            "Epoch 80/100\n",
            "\u001b[1m4/4\u001b[0m \u001b[32m━━━━━━━━━━━━━━━━━━━━\u001b[0m\u001b[37m\u001b[0m \u001b[1m0s\u001b[0m 28ms/step - accuracy: 0.9679 - loss: 0.3111 - val_accuracy: 0.9667 - val_loss: 0.2454\n",
            "Epoch 81/100\n",
            "\u001b[1m4/4\u001b[0m \u001b[32m━━━━━━━━━━━━━━━━━━━━\u001b[0m\u001b[37m\u001b[0m \u001b[1m0s\u001b[0m 28ms/step - accuracy: 0.9533 - loss: 0.2925 - val_accuracy: 0.9667 - val_loss: 0.2445\n",
            "Epoch 82/100\n",
            "\u001b[1m4/4\u001b[0m \u001b[32m━━━━━━━━━━━━━━━━━━━━\u001b[0m\u001b[37m\u001b[0m \u001b[1m0s\u001b[0m 41ms/step - accuracy: 0.9617 - loss: 0.2907 - val_accuracy: 0.9667 - val_loss: 0.2436\n",
            "Epoch 83/100\n",
            "\u001b[1m4/4\u001b[0m \u001b[32m━━━━━━━━━━━━━━━━━━━━\u001b[0m\u001b[37m\u001b[0m \u001b[1m0s\u001b[0m 28ms/step - accuracy: 0.9471 - loss: 0.3077 - val_accuracy: 0.9667 - val_loss: 0.2428\n",
            "Epoch 84/100\n",
            "\u001b[1m4/4\u001b[0m \u001b[32m━━━━━━━━━━━━━━━━━━━━\u001b[0m\u001b[37m\u001b[0m \u001b[1m0s\u001b[0m 27ms/step - accuracy: 0.9596 - loss: 0.3023 - val_accuracy: 0.9667 - val_loss: 0.2419\n",
            "Epoch 85/100\n",
            "\u001b[1m4/4\u001b[0m \u001b[32m━━━━━━━━━━━━━━━━━━━━\u001b[0m\u001b[37m\u001b[0m \u001b[1m0s\u001b[0m 29ms/step - accuracy: 0.9773 - loss: 0.2830 - val_accuracy: 0.9667 - val_loss: 0.2410\n",
            "Epoch 86/100\n",
            "\u001b[1m4/4\u001b[0m \u001b[32m━━━━━━━━━━━━━━━━━━━━\u001b[0m\u001b[37m\u001b[0m \u001b[1m0s\u001b[0m 32ms/step - accuracy: 0.9585 - loss: 0.2885 - val_accuracy: 0.9667 - val_loss: 0.2402\n",
            "Epoch 87/100\n",
            "\u001b[1m4/4\u001b[0m \u001b[32m━━━━━━━━━━━━━━━━━━━━\u001b[0m\u001b[37m\u001b[0m \u001b[1m0s\u001b[0m 27ms/step - accuracy: 0.9565 - loss: 0.2896 - val_accuracy: 0.9667 - val_loss: 0.2393\n",
            "Epoch 88/100\n",
            "\u001b[1m4/4\u001b[0m \u001b[32m━━━━━━━━━━━━━━━━━━━━\u001b[0m\u001b[37m\u001b[0m \u001b[1m0s\u001b[0m 26ms/step - accuracy: 0.9775 - loss: 0.2962 - val_accuracy: 0.9667 - val_loss: 0.2385\n",
            "Epoch 89/100\n",
            "\u001b[1m4/4\u001b[0m \u001b[32m━━━━━━━━━━━━━━━━━━━━\u001b[0m\u001b[37m\u001b[0m \u001b[1m0s\u001b[0m 26ms/step - accuracy: 0.9825 - loss: 0.2601 - val_accuracy: 0.9667 - val_loss: 0.2376\n",
            "Epoch 90/100\n",
            "\u001b[1m4/4\u001b[0m \u001b[32m━━━━━━━━━━━━━━━━━━━━\u001b[0m\u001b[37m\u001b[0m \u001b[1m0s\u001b[0m 27ms/step - accuracy: 0.9681 - loss: 0.2817 - val_accuracy: 0.9667 - val_loss: 0.2368\n",
            "Epoch 91/100\n",
            "\u001b[1m4/4\u001b[0m \u001b[32m━━━━━━━━━━━━━━━━━━━━\u001b[0m\u001b[37m\u001b[0m \u001b[1m0s\u001b[0m 41ms/step - accuracy: 0.9796 - loss: 0.2752 - val_accuracy: 0.9667 - val_loss: 0.2360\n",
            "Epoch 92/100\n",
            "\u001b[1m4/4\u001b[0m \u001b[32m━━━━━━━━━━━━━━━━━━━━\u001b[0m\u001b[37m\u001b[0m \u001b[1m0s\u001b[0m 53ms/step - accuracy: 0.9775 - loss: 0.2652 - val_accuracy: 0.9667 - val_loss: 0.2351\n",
            "Epoch 93/100\n",
            "\u001b[1m4/4\u001b[0m \u001b[32m━━━━━━━━━━━━━━━━━━━━\u001b[0m\u001b[37m\u001b[0m \u001b[1m0s\u001b[0m 36ms/step - accuracy: 0.9879 - loss: 0.2798 - val_accuracy: 0.9667 - val_loss: 0.2343\n",
            "Epoch 94/100\n",
            "\u001b[1m4/4\u001b[0m \u001b[32m━━━━━━━━━━━━━━━━━━━━\u001b[0m\u001b[37m\u001b[0m \u001b[1m0s\u001b[0m 44ms/step - accuracy: 0.9733 - loss: 0.3087 - val_accuracy: 0.9667 - val_loss: 0.2335\n",
            "Epoch 95/100\n",
            "\u001b[1m4/4\u001b[0m \u001b[32m━━━━━━━━━━━━━━━━━━━━\u001b[0m\u001b[37m\u001b[0m \u001b[1m0s\u001b[0m 46ms/step - accuracy: 0.9765 - loss: 0.2856 - val_accuracy: 0.9667 - val_loss: 0.2327\n",
            "Epoch 96/100\n",
            "\u001b[1m4/4\u001b[0m \u001b[32m━━━━━━━━━━━━━━━━━━━━\u001b[0m\u001b[37m\u001b[0m \u001b[1m0s\u001b[0m 48ms/step - accuracy: 0.9619 - loss: 0.2902 - val_accuracy: 0.9667 - val_loss: 0.2319\n",
            "Epoch 97/100\n",
            "\u001b[1m4/4\u001b[0m \u001b[32m━━━━━━━━━━━━━━━━━━━━\u001b[0m\u001b[37m\u001b[0m \u001b[1m0s\u001b[0m 45ms/step - accuracy: 0.9733 - loss: 0.2806 - val_accuracy: 0.9667 - val_loss: 0.2311\n",
            "Epoch 98/100\n",
            "\u001b[1m4/4\u001b[0m \u001b[32m━━━━━━━━━━━━━━━━━━━━\u001b[0m\u001b[37m\u001b[0m \u001b[1m0s\u001b[0m 49ms/step - accuracy: 0.9765 - loss: 0.2813 - val_accuracy: 0.9667 - val_loss: 0.2304\n",
            "Epoch 99/100\n",
            "\u001b[1m4/4\u001b[0m \u001b[32m━━━━━━━━━━━━━━━━━━━━\u001b[0m\u001b[37m\u001b[0m \u001b[1m0s\u001b[0m 30ms/step - accuracy: 0.9733 - loss: 0.2551 - val_accuracy: 0.9667 - val_loss: 0.2296\n",
            "Epoch 100/100\n",
            "\u001b[1m4/4\u001b[0m \u001b[32m━━━━━━━━━━━━━━━━━━━━\u001b[0m\u001b[37m\u001b[0m \u001b[1m0s\u001b[0m 25ms/step - accuracy: 0.9733 - loss: 0.2633 - val_accuracy: 0.9667 - val_loss: 0.2288\n"
          ]
        }
      ]
    },
    {
      "cell_type": "markdown",
      "source": [
        "**Step 9: Evaluate the Model**\n",
        "\n",
        "I have used model.predict() to get outputs, convert softmax outputs to class labels using argmax, and calculate accuracy and confusion matrix.\n"
      ],
      "metadata": {
        "id": "0yskGsMDGlWU"
      }
    },
    {
      "cell_type": "code",
      "source": [
        "# Getting probabilities of prediction\n",
        "y_pred_probs = model.predict(X_test)\n",
        "\n",
        "# Converting probabilities to class predictions\n",
        "y_pred = np.argmax(y_pred_probs, axis=1)  # Pick highest probability\n",
        "y_true = np.argmax(y_test, axis=1)        # Convert one-hot back to labels"
      ],
      "metadata": {
        "colab": {
          "base_uri": "https://localhost:8080/"
        },
        "id": "ZAcZu74WGG-G",
        "outputId": "ad47d01f-a5bd-4d53-b2df-fa1fe368c6c1"
      },
      "execution_count": null,
      "outputs": [
        {
          "output_type": "stream",
          "name": "stdout",
          "text": [
            "\u001b[1m1/1\u001b[0m \u001b[32m━━━━━━━━━━━━━━━━━━━━\u001b[0m\u001b[37m\u001b[0m \u001b[1m0s\u001b[0m 82ms/step\n"
          ]
        }
      ]
    },
    {
      "cell_type": "markdown",
      "source": [
        "Evaluate Using Accuracy and Confusion Matrix"
      ],
      "metadata": {
        "id": "17_jBMa4G9bs"
      }
    },
    {
      "cell_type": "code",
      "source": [
        "from sklearn.metrics import confusion_matrix, accuracy_score\n",
        "\n",
        "# Accuracy score\n",
        "accuracy = accuracy_score(y_true, y_pred)\n",
        "print(\"Test Accuracy:\", accuracy)\n",
        "\n",
        "# Confusion matrix\n",
        "cm = confusion_matrix(y_true, y_pred)\n",
        "print(\"Confusion Matrix:\\n\", cm)"
      ],
      "metadata": {
        "colab": {
          "base_uri": "https://localhost:8080/"
        },
        "id": "GGYFvrl5G3Wp",
        "outputId": "cb2e0e5a-28a6-4041-a28c-3ad012d00ac3"
      },
      "execution_count": null,
      "outputs": [
        {
          "output_type": "stream",
          "name": "stdout",
          "text": [
            "Test Accuracy: 0.9666666666666667\n",
            "Confusion Matrix:\n",
            " [[10  0  0]\n",
            " [ 0  8  1]\n",
            " [ 0  0 11]]\n"
          ]
        }
      ]
    },
    {
      "cell_type": "markdown",
      "source": [
        "Visuvalize the confusion matrix"
      ],
      "metadata": {
        "id": "O7affCWEHGmX"
      }
    },
    {
      "cell_type": "code",
      "source": [
        "import seaborn as sns\n",
        "import matplotlib.pyplot as plt\n",
        "\n",
        "# Make confusion matrix\n",
        "plt.figure(figsize=(6,4))\n",
        "sns.heatmap(cm, annot=True, fmt='d', cmap='Blues',\n",
        "            xticklabels=data.target_names,\n",
        "            yticklabels=data.target_names)\n",
        "\n",
        "plt.xlabel('Predicted')\n",
        "plt.ylabel('Actual')\n",
        "plt.title('Confusion Matrix')\n",
        "plt.show()"
      ],
      "metadata": {
        "colab": {
          "base_uri": "https://localhost:8080/",
          "height": 410
        },
        "id": "PT05hQ9YHC9S",
        "outputId": "14ee2c26-9ca9-4f78-ccc1-54b895fa2477"
      },
      "execution_count": null,
      "outputs": [
        {
          "output_type": "display_data",
          "data": {
            "text/plain": [
              "<Figure size 600x400 with 2 Axes>"
            ],
            "image/png": "[encoded data removed]"
          },
          "metadata": {}
        }
      ]
    },
    {
      "cell_type": "markdown",
      "source": [
        "**Step 10: Visualize Performance**\n",
        "\n",
        "I plotted training vs validation loss and accuracy over the epochs to analyze the learning progress of the model.\n"
      ],
      "metadata": {
        "id": "H8zJuillHYbG"
      }
    },
    {
      "cell_type": "code",
      "source": [
        "# Plotting training & validation loss and accuracy\n",
        "import matplotlib.pyplot as plt\n",
        "\n",
        "# Extracting training history\n",
        "loss = history.history['loss']\n",
        "val_loss = history.history['val_loss']\n",
        "accuracy = history.history['accuracy']\n",
        "val_accuracy = history.history['val_accuracy']\n",
        "epochs = range(1, len(loss) + 1)\n",
        "\n",
        "# Plot Loss\n",
        "plt.figure(figsize=(12, 5))\n",
        "plt.subplot(1, 2, 1)\n",
        "plt.plot(epochs, loss, label='Training Loss')\n",
        "plt.plot(epochs, val_loss, label='Validation Loss')\n",
        "plt.xlabel('Epochs')\n",
        "plt.ylabel('Loss')\n",
        "plt.title('Training vs Validation Loss')\n",
        "plt.legend()\n",
        "\n",
        "# Plot Accuracy\n",
        "plt.subplot(1, 2, 2)\n",
        "plt.plot(epochs, accuracy, label='Training Accuracy')\n",
        "plt.plot(epochs, val_accuracy, label='Validation Accuracy')\n",
        "plt.xlabel('Epochs')\n",
        "plt.ylabel('Accuracy')\n",
        "plt.title('Training vs Validation Accuracy')\n",
        "plt.legend()\n",
        "\n",
        "plt.tight_layout()\n",
        "plt.show()\n"
      ],
      "metadata": {
        "colab": {
          "base_uri": "https://localhost:8080/",
          "height": 527
        },
        "id": "UKu79Hx1HY_e",
        "outputId": "47787804-28f3-4d90-b9a9-6590602b8fe9"
      },
      "execution_count": null,
      "outputs": [
        {
          "output_type": "display_data",
          "data": {
            "text/plain": [
              "<Figure size 1200x500 with 2 Axes>"
            ],
            "image/png": "[encoded data removed]"
          },
          "metadata": {}
        }
      ]
    },
    {
      "cell_type": "markdown",
      "source": [
        "#**Insights**\n",
        "- The model successfully learned to classify iris species with high accuracy.\n",
        "\n",
        "- Loss and accuracy plots showed steady improvement without overfitting.\n",
        "- The confusion matrix confirmed strong class separation.\n",
        "\n"
      ],
      "metadata": {
        "id": "psXHysDMN0lR"
      }
    },
    {
      "cell_type": "markdown",
      "source": [
        "#**Curve Behavior -What it means**\n",
        "\n",
        "- Loss decreases\t- The model is learning\n",
        "\n",
        "- Accuracy increases\t- The model is getting better at classifying\n",
        "\n",
        "- Val & Train curves close\tGood generalization (not overfitting!)"
      ],
      "metadata": {
        "id": "RjFAsLQzxFBZ"
      }
    },
    {
      "cell_type": "code",
      "source": [],
      "metadata": {
        "id": "4h_0NnE4xkV2"
      },
      "execution_count": null,
      "outputs": []
    },
    {
      "cell_type": "code",
      "source": [],
      "metadata": {
        "id": "UPUlhi33xlS5"
      },
      "execution_count": null,
      "outputs": []
    }
  ]
}